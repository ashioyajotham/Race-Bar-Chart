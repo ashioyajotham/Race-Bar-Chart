{
  "nbformat": 4,
  "nbformat_minor": 0,
  "metadata": {
    "colab": {
      "name": "Race Bar Chart - Data Format.ipynb",
      "provenance": []
    },
    "kernelspec": {
      "name": "python3",
      "display_name": "Python 3"
    }
  },
  "cells": [
    {
      "cell_type": "code",
      "metadata": {
        "id": "a2JaAUqnHCyH"
      },
      "source": [
        "import pandas as pd\n",
        "import re"
      ],
      "execution_count": 1,
      "outputs": []
    },
    {
      "cell_type": "code",
      "metadata": {
        "id": "cKGob8uwIGCS",
        "colab": {
          "base_uri": "https://localhost:8080/",
          "height": 255
        },
        "outputId": "c589c847-12d1-4ee0-9c79-5942d3ec53c7"
      },
      "source": [
        "data_url = \"https://raw.githubusercontent.com/apogiatzis/race-bar-chart-unemployment/master/data/unemployment_per_economic_activity_monthly.csv\"\n",
        "df = pd.read_csv(data_url)\n",
        "df.head()"
      ],
      "execution_count": 2,
      "outputs": [
        {
          "output_type": "execute_result",
          "data": {
            "text/html": [
              "<div>\n",
              "<style scoped>\n",
              "    .dataframe tbody tr th:only-of-type {\n",
              "        vertical-align: middle;\n",
              "    }\n",
              "\n",
              "    .dataframe tbody tr th {\n",
              "        vertical-align: top;\n",
              "    }\n",
              "\n",
              "    .dataframe thead th {\n",
              "        text-align: right;\n",
              "    }\n",
              "</style>\n",
              "<table border=\"1\" class=\"dataframe\">\n",
              "  <thead>\n",
              "    <tr style=\"text-align: right;\">\n",
              "      <th></th>\n",
              "      <th>NACE 2 CODE</th>\n",
              "      <th>Activity Code</th>\n",
              "      <th>Economic Activity</th>\n",
              "      <th>Year</th>\n",
              "      <th>Month</th>\n",
              "      <th>Anastoles-Metapoiisi</th>\n",
              "      <th>Anastoles-Touristiki</th>\n",
              "      <th>Termatismoi-Touristiki</th>\n",
              "      <th>Termatismoi-Alloi</th>\n",
              "      <th>Total</th>\n",
              "    </tr>\n",
              "  </thead>\n",
              "  <tbody>\n",
              "    <tr>\n",
              "      <th>0</th>\n",
              "      <td>A</td>\n",
              "      <td>1</td>\n",
              "      <td>Γεωργία, δασοκομία και αλιεία</td>\n",
              "      <td>2013</td>\n",
              "      <td>Ιανουάριος</td>\n",
              "      <td>0</td>\n",
              "      <td>0</td>\n",
              "      <td>0</td>\n",
              "      <td>159</td>\n",
              "      <td>159</td>\n",
              "    </tr>\n",
              "    <tr>\n",
              "      <th>1</th>\n",
              "      <td>B</td>\n",
              "      <td>2</td>\n",
              "      <td>Ορυχεία και λατομεία</td>\n",
              "      <td>2013</td>\n",
              "      <td>Ιανουάριος</td>\n",
              "      <td>0</td>\n",
              "      <td>0</td>\n",
              "      <td>0</td>\n",
              "      <td>62</td>\n",
              "      <td>62</td>\n",
              "    </tr>\n",
              "    <tr>\n",
              "      <th>2</th>\n",
              "      <td>C</td>\n",
              "      <td>3</td>\n",
              "      <td>Μεταποίηση</td>\n",
              "      <td>2013</td>\n",
              "      <td>Ιανουάριος</td>\n",
              "      <td>141</td>\n",
              "      <td>0</td>\n",
              "      <td>0</td>\n",
              "      <td>2690</td>\n",
              "      <td>2831</td>\n",
              "    </tr>\n",
              "    <tr>\n",
              "      <th>3</th>\n",
              "      <td>D</td>\n",
              "      <td>4</td>\n",
              "      <td>Παροχή ηλεκτρικού ρεύματος, φυσικού αερίου, ατ...</td>\n",
              "      <td>2013</td>\n",
              "      <td>Ιανουάριος</td>\n",
              "      <td>0</td>\n",
              "      <td>0</td>\n",
              "      <td>0</td>\n",
              "      <td>15</td>\n",
              "      <td>15</td>\n",
              "    </tr>\n",
              "    <tr>\n",
              "      <th>4</th>\n",
              "      <td>E</td>\n",
              "      <td>5</td>\n",
              "      <td>Παροχή νερού, επεξεργασία λυμάτων, διαχείριση ...</td>\n",
              "      <td>2013</td>\n",
              "      <td>Ιανουάριος</td>\n",
              "      <td>0</td>\n",
              "      <td>0</td>\n",
              "      <td>0</td>\n",
              "      <td>31</td>\n",
              "      <td>31</td>\n",
              "    </tr>\n",
              "  </tbody>\n",
              "</table>\n",
              "</div>"
            ],
            "text/plain": [
              "  NACE 2 CODE Activity Code  ... Termatismoi-Alloi  Total\n",
              "0           A             1  ...               159    159\n",
              "1           B             2  ...                62     62\n",
              "2           C             3  ...              2690   2831\n",
              "3           D             4  ...                15     15\n",
              "4           E             5  ...                31     31\n",
              "\n",
              "[5 rows x 10 columns]"
            ]
          },
          "metadata": {},
          "execution_count": 2
        }
      ]
    },
    {
      "cell_type": "code",
      "metadata": {
        "id": "wYYRkQynkbLr"
      },
      "source": [
        "## Month Translation table \n",
        "## The prefix is to maintain sorted columns\n",
        "month_gr2en = {'Ιανουάριος': '_01 Jan', 'Φεβρουάριος': '_02 Feb', 'Μάρτιος': '_03 Mar',\n",
        "               'Απρίλιος': '_04 Apr', 'Μάιος':'_05 May', 'Ιούνιος':'_06 Jun',\n",
        "               'Ιούλιος': '_07 Jul', 'Αύγουστος':'_08 Aug', 'Σεπτέμβριος': '_09 Sep',\n",
        "               'Οκτώβριος':'_10 Oct', 'Νοέμβριος':'_11 Nov',\n",
        "               'Δεκέμβριος': '_12 Dec'}"
      ],
      "execution_count": 3,
      "outputs": []
    },
    {
      "cell_type": "code",
      "metadata": {
        "id": "bGcMIEx_IJio"
      },
      "source": [
        "## Group by Economic Activity just to get the unique EA categories.\n",
        "## Could be done with .unique() method but this makes sure there are\n",
        "## not dangling categories.\n",
        "df_grouped = df.groupby('Economic Activity')\n",
        "\n",
        "## Group by Year and Month to group up the data \n",
        "## of the new dataframe per column.\n",
        "df_year_groups = df.groupby(['Year', 'Month'])"
      ],
      "execution_count": 4,
      "outputs": []
    },
    {
      "cell_type": "code",
      "metadata": {
        "id": "qSqxyfPJIUbw",
        "colab": {
          "base_uri": "https://localhost:8080/",
          "height": 231
        },
        "outputId": "5458d9f8-c270-4f48-846a-3ab8a9f37ea7"
      },
      "source": [
        "EA_TOTAL_COLUMNS = [2, 9] # Indices of Economic Activity and Total columns\n",
        "\n",
        "formatted_df = pd.DataFrame(index=df_grouped.groups.keys()) # Empty DF, only indices\n",
        "\n",
        "## Create a new dataframe with the total unemployment per economic activity\n",
        "## and concat with the previous one\n",
        "for k,v in df_year_groups.groups.items():\n",
        "  column_label = str(k[0]) + ' ' + month_gr2en[k[1]]\n",
        "  aggregated = df.iloc[v, EA_TOTAL_COLUMNS].set_index('Economic Activity')\n",
        "  aggregated.rename(columns={'Total': column_label}, inplace=True)\n",
        "  formatted_df = pd.concat([formatted_df, aggregated], axis=1, join_axes=[formatted_df.index])  \n",
        "\n",
        "## Because of groupby, columns are not sorted. Sort month colums\n",
        "sorted_columns = list(formatted_df.columns.sort_values())\n",
        "\n",
        "## Add category field + the sorted columns\n",
        "formatted_df['category'] = range(len(df_grouped.groups.keys()))\n",
        "formatted_df = formatted_df[['category'] + sorted_columns]\n",
        "\n",
        "## Remove the prefix used for ordering from the month oclumns\n",
        "formatted_df.columns = list(map(lambda col: re.sub(r\"_[0-9]*[ \\t]+\",\"\", col),\n",
        "                               formatted_df.columns))\n",
        "\n",
        "## Set Index\n",
        "formatted_df.index.name = 'Economic Activity'\n",
        "\n",
        "## Remove Unwanted Eaconomic Activity categories\n",
        "formatted_df = formatted_df.drop(['Μη δηλωμένη οικονομική δραστηριότητα', 'Σύνολο'])\n",
        "\n",
        "## Save to csv\n",
        "formatted_df.to_csv('data.csv', encoding='utf-8-sig')\n",
        "\n",
        "formatted_df.head()"
      ],
      "execution_count": 5,
      "outputs": [
        {
          "output_type": "error",
          "ename": "TypeError",
          "evalue": "ignored",
          "traceback": [
            "\u001b[0;31m---------------------------------------------------------------------------\u001b[0m",
            "\u001b[0;31mTypeError\u001b[0m                                 Traceback (most recent call last)",
            "\u001b[0;32m<ipython-input-5-a5a80fb5ecb8>\u001b[0m in \u001b[0;36m<module>\u001b[0;34m()\u001b[0m\n\u001b[1;32m      9\u001b[0m   \u001b[0maggregated\u001b[0m \u001b[0;34m=\u001b[0m \u001b[0mdf\u001b[0m\u001b[0;34m.\u001b[0m\u001b[0miloc\u001b[0m\u001b[0;34m[\u001b[0m\u001b[0mv\u001b[0m\u001b[0;34m,\u001b[0m \u001b[0mEA_TOTAL_COLUMNS\u001b[0m\u001b[0;34m]\u001b[0m\u001b[0;34m.\u001b[0m\u001b[0mset_index\u001b[0m\u001b[0;34m(\u001b[0m\u001b[0;34m'Economic Activity'\u001b[0m\u001b[0;34m)\u001b[0m\u001b[0;34m\u001b[0m\u001b[0;34m\u001b[0m\u001b[0m\n\u001b[1;32m     10\u001b[0m   \u001b[0maggregated\u001b[0m\u001b[0;34m.\u001b[0m\u001b[0mrename\u001b[0m\u001b[0;34m(\u001b[0m\u001b[0mcolumns\u001b[0m\u001b[0;34m=\u001b[0m\u001b[0;34m{\u001b[0m\u001b[0;34m'Total'\u001b[0m\u001b[0;34m:\u001b[0m \u001b[0mcolumn_label\u001b[0m\u001b[0;34m}\u001b[0m\u001b[0;34m,\u001b[0m \u001b[0minplace\u001b[0m\u001b[0;34m=\u001b[0m\u001b[0;32mTrue\u001b[0m\u001b[0;34m)\u001b[0m\u001b[0;34m\u001b[0m\u001b[0;34m\u001b[0m\u001b[0m\n\u001b[0;32m---> 11\u001b[0;31m   \u001b[0mformatted_df\u001b[0m \u001b[0;34m=\u001b[0m \u001b[0mpd\u001b[0m\u001b[0;34m.\u001b[0m\u001b[0mconcat\u001b[0m\u001b[0;34m(\u001b[0m\u001b[0;34m[\u001b[0m\u001b[0mformatted_df\u001b[0m\u001b[0;34m,\u001b[0m \u001b[0maggregated\u001b[0m\u001b[0;34m]\u001b[0m\u001b[0;34m,\u001b[0m \u001b[0maxis\u001b[0m\u001b[0;34m=\u001b[0m\u001b[0;36m1\u001b[0m\u001b[0;34m,\u001b[0m \u001b[0mjoin_axes\u001b[0m\u001b[0;34m=\u001b[0m\u001b[0;34m[\u001b[0m\u001b[0mformatted_df\u001b[0m\u001b[0;34m.\u001b[0m\u001b[0mindex\u001b[0m\u001b[0;34m]\u001b[0m\u001b[0;34m)\u001b[0m\u001b[0;34m\u001b[0m\u001b[0;34m\u001b[0m\u001b[0m\n\u001b[0m\u001b[1;32m     12\u001b[0m \u001b[0;34m\u001b[0m\u001b[0m\n\u001b[1;32m     13\u001b[0m \u001b[0;31m## Because of groupby, columns are not sorted. Sort month colums\u001b[0m\u001b[0;34m\u001b[0m\u001b[0;34m\u001b[0m\u001b[0;34m\u001b[0m\u001b[0m\n",
            "\u001b[0;31mTypeError\u001b[0m: concat() got an unexpected keyword argument 'join_axes'"
          ]
        }
      ]
    },
    {
      "cell_type": "code",
      "metadata": {
        "id": "mWTJjoJrStEl"
      },
      "source": [
        ""
      ],
      "execution_count": null,
      "outputs": []
    }
  ]
}